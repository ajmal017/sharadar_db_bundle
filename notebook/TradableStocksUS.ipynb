{
 "cells": [
  {
   "cell_type": "code",
   "execution_count": 38,
   "metadata": {},
   "outputs": [],
   "source": [
    "import pandas as pd\n",
    "from zipline.pipeline import Pipeline\n",
    "from zipline.pipeline.data import USEquityPricing\n",
    "from sharadar.pipeline.factors import Exchange, Sector, IsDomesticCommonStock, MarketCap, Fundamentals, EV\n",
    "from sharadar.pipeline.engine import symbol, symbols, make_pipeline_engine\n",
    "from zipline.pipeline.filters import StaticAssets\n",
    "import time\n",
    "import datetime\n",
    "from zipline.pipeline.factors import AverageDollarVolume\n",
    "import os\n",
    "from sharadar.util.output_dir import get_output_dir\n",
    "from sharadar.pipeline.universes import UniverseReader\n",
    "from sharadar.pipeline.engine import symbol, symbols, load_sharadar_bundle\n",
    "import numpy as np\n",
    "from scipy import stats\n",
    "from zipline.pipeline.hooks.progress import ProgressHooks"
   ]
  },
  {
   "cell_type": "code",
   "execution_count": 31,
   "metadata": {},
   "outputs": [],
   "source": [
    "spe = make_pipeline_engine()\n",
    "pipe_date = pd.to_datetime('2020-11-20', utc=True)"
   ]
  },
  {
   "cell_type": "code",
   "execution_count": 40,
   "metadata": {},
   "outputs": [],
   "source": [
    "class NullProgressPublisher(object):\n",
    "\n",
    "    def publish(self, model):\n",
    "        pass\n",
    "    \n",
    "no_hooks = [ProgressHooks.with_static_publisher(NullProgressPublisher())]"
   ]
  },
  {
   "cell_type": "code",
   "execution_count": 49,
   "metadata": {},
   "outputs": [],
   "source": [
    "pipe_columns = {\n",
    "    'Close': USEquityPricing.close.latest,\n",
    "    'sector': Sector(),\n",
    "    'adv': AverageDollarVolume(window_length=200),\n",
    "    'mkt_cap': MarketCap()\n",
    "}"
   ]
  },
  {
   "cell_type": "code",
   "execution_count": 32,
   "metadata": {},
   "outputs": [],
   "source": [
    "def StocksUS():\n",
    "    return (\n",
    "        (USEquityPricing.close.latest > 3) &\n",
    "        Exchange().element_of(['NYSE', 'NASDAQ', 'NYSEMKT']) &\n",
    "        (Sector().notnull()) &\n",
    "        (~Sector().element_of(['Financial Services', 'Real Estate'])) &\n",
    "        (IsDomesticCommonStock().eq(1)) &\n",
    "        (Fundamentals(field='revenue_arq') > 0) &\n",
    "        (Fundamentals(field='assets_arq') > 0) &\n",
    "        (Fundamentals(field='equity_arq') > 0) &\n",
    "        (EV() > 0)\n",
    "    )"
   ]
  },
  {
   "cell_type": "code",
   "execution_count": 50,
   "metadata": {},
   "outputs": [
    {
     "data": {
      "text/plain": [
       "(2218, 4)"
      ]
     },
     "execution_count": 50,
     "metadata": {},
     "output_type": "execute_result"
    }
   ],
   "source": [
    "pipe = Pipeline(columns=pipe_columns, screen = StocksUS())\n",
    "\n",
    "stocks_us = spe.run_pipeline(pipe, pipe_date, hooks=no_hooks)\n",
    "stocks_us.shape"
   ]
  },
  {
   "cell_type": "code",
   "execution_count": 51,
   "metadata": {},
   "outputs": [
    {
     "data": {
      "text/plain": [
       "(20.378719567177637, 21.055004508566277)"
      ]
     },
     "execution_count": 51,
     "metadata": {},
     "output_type": "execute_result"
    }
   ],
   "source": [
    "min_percentile_mc = stats.percentileofscore(stocks_us['mkt_cap'], 350e6)\n",
    "min_percentile_adv = stats.percentileofscore(stocks_us['adv'], 2.5e6)\n",
    "\n",
    "min_percentile_mc, min_percentile_adv"
   ]
  },
  {
   "cell_type": "code",
   "execution_count": 52,
   "metadata": {},
   "outputs": [
    {
     "name": "stderr",
     "output_type": "stream",
     "text": [
      "/home/c.cerbo/zipline/lib/python3.6/site-packages/zipline-1.4.1-py3.6-linux-x86_64.egg/zipline/pipeline/filters/filter.py:473: RuntimeWarning: invalid value encountered in less_equal\n",
      "  return (lower_bounds <= data) & (data <= upper_bounds)\n"
     ]
    },
    {
     "data": {
      "text/plain": [
       "(1656, 4)"
      ]
     },
     "execution_count": 52,
     "metadata": {},
     "output_type": "execute_result"
    }
   ],
   "source": [
    "def TradableStocksUS_Var():\n",
    "    return (\n",
    "        (StocksUS()) &\n",
    "        (AverageDollarVolume(window_length=200).percentile_between(min_percentile_adv, 100.0, mask=StocksUS())) &\n",
    "        (MarketCap().percentile_between(min_percentile_mc, 100.0, mask=StocksUS()))\n",
    "    )\n",
    "\n",
    "pipe = Pipeline(columns=pipe_columns, screen = TradableStocksUS_Var())\n",
    "\n",
    "stocks_tradable_var = spe.run_pipeline(pipe, pipe_date, hooks=no_hooks)\n",
    "stocks_tradable_var.shape"
   ]
  },
  {
   "cell_type": "code",
   "execution_count": 53,
   "metadata": {},
   "outputs": [
    {
     "data": {
      "text/plain": [
       "(1656, 4)"
      ]
     },
     "execution_count": 53,
     "metadata": {},
     "output_type": "execute_result"
    }
   ],
   "source": [
    "def TradableStocksUS_Fix():\n",
    "    return (\n",
    "        (StocksUS()) &\n",
    "        (AverageDollarVolume(window_length=200) > 2.5e6) &\n",
    "        (MarketCap() > 350e6)\n",
    "    )\n",
    "\n",
    "pipe = Pipeline(columns=pipe_columns, screen = TradableStocksUS_Fix())\n",
    "\n",
    "stocks_tradable_fix = spe.run_pipeline(pipe, pipe_date, hooks=no_hooks)\n",
    "stocks_tradable_fix.shape"
   ]
  },
  {
   "cell_type": "code",
   "execution_count": 56,
   "metadata": {},
   "outputs": [
    {
     "name": "stderr",
     "output_type": "stream",
     "text": [
      "/home/c.cerbo/zipline/lib/python3.6/site-packages/zipline-1.4.1-py3.6-linux-x86_64.egg/zipline/pipeline/filters/filter.py:473: RuntimeWarning: invalid value encountered in less_equal\n",
      "  return (lower_bounds <= data) & (data <= upper_bounds)\n"
     ]
    },
    {
     "data": {
      "text/plain": [
       "(1675, 4)"
      ]
     },
     "execution_count": 56,
     "metadata": {},
     "output_type": "execute_result"
    }
   ],
   "source": [
    "min_percentile = 20\n",
    "def TradableStocksUS_Var_20():\n",
    "    return (\n",
    "        (StocksUS()) &\n",
    "        (AverageDollarVolume(window_length=200).percentile_between(min_percentile, 100, mask=StocksUS())) &\n",
    "        (MarketCap().percentile_between(min_percentile, 100, mask=StocksUS()))\n",
    "    )\n",
    "\n",
    "pipe = Pipeline(columns=pipe_columns, screen = TradableStocksUS_Var_20())\n",
    "\n",
    "stocks_tradable_var20 = spe.run_pipeline(pipe, pipe_date, hooks=no_hooks)\n",
    "stocks_tradable_var20.shape"
   ]
  }
 ],
 "metadata": {
  "kernelspec": {
   "display_name": "Python 3",
   "language": "python",
   "name": "python3"
  },
  "language_info": {
   "codemirror_mode": {
    "name": "ipython",
    "version": 3
   },
   "file_extension": ".py",
   "mimetype": "text/x-python",
   "name": "python",
   "nbconvert_exporter": "python",
   "pygments_lexer": "ipython3",
   "version": "3.6.12"
  }
 },
 "nbformat": 4,
 "nbformat_minor": 2
}
